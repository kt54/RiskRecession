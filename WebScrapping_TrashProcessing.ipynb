{
 "cells": [
  {
   "cell_type": "code",
   "execution_count": 72,
   "metadata": {},
   "outputs": [],
   "source": [
    "import requests\n",
    "from bs4 import BeautifulSoup\n",
    "import pandas as pd\n",
    "import warnings\n",
    "warnings.filterwarnings(\"ignore\",module='bs4')\n",
    "warnings.filterwarnings(\"ignore\",module='requests')"
   ]
  },
  {
   "cell_type": "code",
   "execution_count": 85,
   "metadata": {},
   "outputs": [],
   "source": [
    "#Get the url list for scrapping\n",
    "url_list = ['http://www.waste-cwin.org/node/'+str(i) for i in range(2000,3000)]\n",
    "#我观察的那些焚烧厂的链接格式最后变得就是最后的这个4位数，http://www.waste-cwin.org/node/2222，比如这个2222，但是他这个4位数有的指向的不是\n",
    "#焚烧厂信息，只有特定的几个是，这个很麻烦\n",
    "#第二 每个焚烧厂信息完善度不一样 有的信息有的缺乏， 所以 你最好设定想要哪几个信息"
   ]
  },
  {
   "cell_type": "code",
   "execution_count": 86,
   "metadata": {},
   "outputs": [],
   "source": [
    "#Ger the content given a url\n",
    "def get_content(url):\n",
    "    response = requests.get(url)\n",
    "    if response.status_code != 200:\n",
    "        return None\n",
    "    else:\n",
    "        page = BeautifulSoup(response.content,'html.parser')\n",
    "        content = list()\n",
    "        for element in page.find_all('div', class_=\"field-item even\"):\n",
    "            content.append(element.get_text().strip())\n",
    "        return content"
   ]
  },
  {
   "cell_type": "code",
   "execution_count": 97,
   "metadata": {},
   "outputs": [],
   "source": [
    "#Get the info for the trash processiong map in a data table"
   ]
  },
  {
   "cell_type": "code",
   "execution_count": 94,
   "metadata": {},
   "outputs": [],
   "source": [
    "def get_dataframe(url_list):\n",
    "    labels = ['厂名/项目名','地址','运营状况','规模','使用技术','烟气净化技术','运营时间','环评简本情况',\\\n",
    "              '是否属于2017年重点排污单位','监督性监测信息公布渠道', '自行监测信息公布渠道','监管记录','飞灰去向']\n",
    "    info = dict([(key, []) for key in labels])\n",
    "    content_list = list()\n",
    "    for url in url_list:\n",
    "        content_list.append(get_content(url))\n",
    "    res = list()\n",
    "    for val in content_list: \n",
    "        if val != None:\n",
    "            res.append(val) \n",
    "    for i in range(len(res)):\n",
    "        for j in range(len(res[i])):\n",
    "            info[labels[j]].append(res[i][j])\n",
    "    return pd.DataFrame.from_dict(info)"
   ]
  },
  {
   "cell_type": "code",
   "execution_count": 99,
   "metadata": {},
   "outputs": [
    {
     "name": "stderr",
     "output_type": "stream",
     "text": [
      "Some characters could not be decoded, and were replaced with REPLACEMENT CHARACTER.\n",
      "Some characters could not be decoded, and were replaced with REPLACEMENT CHARACTER.\n"
     ]
    }
   ],
   "source": [
    "url_list = ['http://www.waste-cwin.org/node/2451','http://www.waste-cwin.org/node/2624']\n",
    "data_table = get_dataframe(url_list)"
   ]
  },
  {
   "cell_type": "code",
   "execution_count": 100,
   "metadata": {},
   "outputs": [
    {
     "data": {
      "text/html": [
       "<div>\n",
       "<style scoped>\n",
       "    .dataframe tbody tr th:only-of-type {\n",
       "        vertical-align: middle;\n",
       "    }\n",
       "\n",
       "    .dataframe tbody tr th {\n",
       "        vertical-align: top;\n",
       "    }\n",
       "\n",
       "    .dataframe thead th {\n",
       "        text-align: right;\n",
       "    }\n",
       "</style>\n",
       "<table border=\"1\" class=\"dataframe\">\n",
       "  <thead>\n",
       "    <tr style=\"text-align: right;\">\n",
       "      <th></th>\n",
       "      <th>厂名/项目名</th>\n",
       "      <th>地址</th>\n",
       "      <th>运营状况</th>\n",
       "      <th>规模</th>\n",
       "      <th>使用技术</th>\n",
       "      <th>烟气净化技术</th>\n",
       "      <th>运营时间</th>\n",
       "      <th>环评简本情况</th>\n",
       "      <th>是否属于2017年重点排污单位</th>\n",
       "      <th>监督性监测信息公布渠道</th>\n",
       "      <th>自行监测信息公布渠道</th>\n",
       "      <th>监管记录</th>\n",
       "      <th>飞灰去向</th>\n",
       "    </tr>\n",
       "  </thead>\n",
       "  <tbody>\n",
       "    <tr>\n",
       "      <th>0</th>\n",
       "      <td>日照第一生活垃圾焚烧发电厂</td>\n",
       "      <td>日照市经济技术开发区常州路9号</td>\n",
       "      <td>运行</td>\n",
       "      <td>一期600t/d 二期400t/d</td>\n",
       "      <td>机械炉排炉</td>\n",
       "      <td>SNCR脱硝+半干法脱酸+干法脱酸+活性炭吸附+布袋除尘器</td>\n",
       "      <td>一期2015年10月运行</td>\n",
       "      <td>http://huanbao.bjx.com.cn/news/20170516/825643...</td>\n",
       "      <td>是</td>\n",
       "      <td>未公开</td>\n",
       "      <td>日照市重点监控企业自动监测信息系统http://219.146.185.5:8401/web...</td>\n",
       "      <td>暂无</td>\n",
       "      <td>日照市黄山垃圾填埋场</td>\n",
       "    </tr>\n",
       "    <tr>\n",
       "      <th>1</th>\n",
       "      <td>伊春城市生活垃圾焚烧发电厂</td>\n",
       "      <td>伊春循环经济园区内(伊春火车站东北侧旭日办事处铁东街),</td>\n",
       "      <td>运行</td>\n",
       "      <td>400t/d</td>\n",
       "      <td>循环流化床</td>\n",
       "      <td>半干式洗涤加布袋除尘</td>\n",
       "      <td>2014年11月运行</td>\n",
       "      <td>未公开</td>\n",
       "      <td>是</td>\n",
       "      <td>伊春市环保局官网http://www.yhb.gov.cn/docweb/docList.a...</td>\n",
       "      <td>黑龙江省重点监控企业环境自行监测信息发布平台http://1.189.191.146:800...</td>\n",
       "      <td>http://www.ipe.org.cn/IndustryRecord/regulator...</td>\n",
       "      <td>伊春市生活垃圾填埋场</td>\n",
       "    </tr>\n",
       "  </tbody>\n",
       "</table>\n",
       "</div>"
      ],
      "text/plain": [
       "          厂名/项目名                            地址 运营状况                 规模   使用技术  \\\n",
       "0  日照第一生活垃圾焚烧发电厂               日照市经济技术开发区常州路9号   运行  一期600t/d 二期400t/d  机械炉排炉   \n",
       "1  伊春城市生活垃圾焚烧发电厂  伊春循环经济园区内(伊春火车站东北侧旭日办事处铁东街),   运行             400t/d  循环流化床   \n",
       "\n",
       "                          烟气净化技术          运营时间  \\\n",
       "0  SNCR脱硝+半干法脱酸+干法脱酸+活性炭吸附+布袋除尘器  一期2015年10月运行   \n",
       "1                     半干式洗涤加布袋除尘    2014年11月运行   \n",
       "\n",
       "                                              环评简本情况 是否属于2017年重点排污单位  \\\n",
       "0  http://huanbao.bjx.com.cn/news/20170516/825643...               是   \n",
       "1                                                未公开               是   \n",
       "\n",
       "                                         监督性监测信息公布渠道  \\\n",
       "0                                                未公开   \n",
       "1  伊春市环保局官网http://www.yhb.gov.cn/docweb/docList.a...   \n",
       "\n",
       "                                          自行监测信息公布渠道  \\\n",
       "0  日照市重点监控企业自动监测信息系统http://219.146.185.5:8401/web...   \n",
       "1  黑龙江省重点监控企业环境自行监测信息发布平台http://1.189.191.146:800...   \n",
       "\n",
       "                                                监管记录        飞灰去向  \n",
       "0                                                 暂无  日照市黄山垃圾填埋场  \n",
       "1  http://www.ipe.org.cn/IndustryRecord/regulator...  伊春市生活垃圾填埋场  "
      ]
     },
     "execution_count": 100,
     "metadata": {},
     "output_type": "execute_result"
    }
   ],
   "source": [
    "data_table"
   ]
  },
  {
   "cell_type": "code",
   "execution_count": null,
   "metadata": {},
   "outputs": [],
   "source": []
  }
 ],
 "metadata": {
  "kernelspec": {
   "display_name": "Python 3",
   "language": "python",
   "name": "python3"
  },
  "language_info": {
   "codemirror_mode": {
    "name": "ipython",
    "version": 3
   },
   "file_extension": ".py",
   "mimetype": "text/x-python",
   "name": "python",
   "nbconvert_exporter": "python",
   "pygments_lexer": "ipython3",
   "version": "3.6.5"
  }
 },
 "nbformat": 4,
 "nbformat_minor": 2
}
