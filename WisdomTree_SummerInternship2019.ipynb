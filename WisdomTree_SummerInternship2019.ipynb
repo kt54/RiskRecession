{
 "cells": [
  {
   "cell_type": "code",
   "execution_count": 1,
   "metadata": {},
   "outputs": [],
   "source": [
    "import pandas as pd\n",
    "import numpy as np\n",
    "import datetime\n",
    "import matplotlib.pyplot as plt\n",
    "import warnings\n",
    "warnings.filterwarnings('ignore')"
   ]
  },
  {
   "cell_type": "markdown",
   "metadata": {},
   "source": [
    "### Preprocess the data"
   ]
  },
  {
   "cell_type": "code",
   "execution_count": 2,
   "metadata": {},
   "outputs": [],
   "source": [
    "# Preprocess the data\n",
    "df = pd.read_excel('WisdomTree Core Equity Indexes.xlsx',sheet_name = 'All-Domestic-monthly')"
   ]
  },
  {
   "cell_type": "code",
   "execution_count": 3,
   "metadata": {},
   "outputs": [],
   "source": [
    "df = df[8:]"
   ]
  },
  {
   "cell_type": "code",
   "execution_count": 4,
   "metadata": {},
   "outputs": [],
   "source": [
    "df = df.rename(columns=df.iloc[0])[1:]"
   ]
  },
  {
   "cell_type": "code",
   "execution_count": 5,
   "metadata": {},
   "outputs": [],
   "source": [
    "df = df.set_index('Month End')"
   ]
  },
  {
   "cell_type": "code",
   "execution_count": 6,
   "metadata": {},
   "outputs": [],
   "source": [
    "df = df['2009-01-31' :'2019-02-28']"
   ]
  },
  {
   "cell_type": "markdown",
   "metadata": {},
   "source": [
    "### Calculate the portfolio without rebalance"
   ]
  },
  {
   "cell_type": "code",
   "execution_count": 7,
   "metadata": {},
   "outputs": [],
   "source": [
    "#Calculate the portfolio without rebalance\n",
    "w_epstr = 0.5\n",
    "w_meitr = 0.35\n",
    "w_seitr = 0.15\n",
    "df['PortfolioReturn_withoutRebalance'] = np.empty(len(df))"
   ]
  },
  {
   "cell_type": "code",
   "execution_count": 8,
   "metadata": {},
   "outputs": [],
   "source": [
    "df['PortfolioReturn_withoutRebalance'].iloc[0] =  w_epstr*df['WisdomTree U.S. LargeCap Index'].iloc[0]+\\\n",
    "                                        w_meitr*df['WisdomTree U.S. MidCap Index'].iloc[0]+ w_seitr*df['WisdomTree U.S. SmallCap Index'].iloc[0]\n",
    "for i in range(1,len(df)):\n",
    "    df['PortfolioReturn_withoutRebalance'].iloc[i] =  w_epstr*((1+df['WisdomTree U.S. LargeCap Index'][:i+1]).prod()-1)+\\\n",
    "                                        w_meitr*((1+df['WisdomTree U.S. MidCap Index'][:i+1]).prod()-1)+\\\n",
    "    w_seitr*((1+df['WisdomTree U.S. SmallCap Index'][:i+1]).prod()-1)"
   ]
  },
  {
   "cell_type": "markdown",
   "metadata": {},
   "source": [
    "### Calculate the portfolio weights with balancing"
   ]
  },
  {
   "cell_type": "code",
   "execution_count": 9,
   "metadata": {},
   "outputs": [],
   "source": [
    "#Calculate the portfolio weights with balancing\n",
    "df['w1'] = np.zeros(len(df))\n",
    "df['w2'] = np.zeros(len(df))\n",
    "df['w3'] = np.zeros(len(df))\n",
    "df['w1'][0] = 0.5\n",
    "df['w2'][0] = 0.35\n",
    "df['w3'][0] = 0.15\n",
    "for i in range(1,len(df.index)):\n",
    "    if df.index[i].month == 2:\n",
    "        df['w1'][i] = df.loc[df.index[i-1]]['w1']*(1+df['WisdomTree U.S. LargeCap Index'][:i+1]).prod()/(df.loc[df.index[i-1]]['w1']*(1+df['WisdomTree U.S. LargeCap Index'][:i+1]).prod()+\\\n",
    "                                        df.loc[df.index[i-1]]['w2']*(1+df['WisdomTree U.S. MidCap Index'][:i+1]).prod()+\\\n",
    "    df.loc[df.index[i-1]]['w3']*(1+df['WisdomTree U.S. SmallCap Index'][:i+1]).prod())\n",
    "        df['w2'][i] = df.loc[df.index[i-1]]['w2']*(1+df['WisdomTree U.S. MidCap Index'][:i+1]).prod()/(df.loc[df.index[i-1]]['w1']*(1+df['WisdomTree U.S. LargeCap Index'][:i+1]).prod()+\\\n",
    "                                        df.loc[df.index[i-1]]['w2']*(1+df['WisdomTree U.S. MidCap Index'][:i+1]).prod()+\\\n",
    "    df.loc[df.index[i-1]]['w3']*(1+df['WisdomTree U.S. SmallCap Index'][:i+1]).prod())\n",
    "        df['w3'][i] = df.loc[df.index[i-1]]['w3']*(1+df['WisdomTree U.S. SmallCap Index'][:i+1]).prod()/(df.loc[df.index[i-1]]['w1']*(1+df['WisdomTree U.S. LargeCap Index'][:i+1]).prod()+\\\n",
    "                                        df.loc[df.index[i-1]]['w2']*(1+df['WisdomTree U.S. MidCap Index'][:i+1]).prod()+\\\n",
    "    df.loc[df.index[i-1]]['w3']*(1+df['WisdomTree U.S. SmallCap Index'][:i+1]).prod())\n",
    "    elif df.index[i].month == 8:\n",
    "        df['w1'][i] = df.loc[df.index[i-1]]['w1']*(1+df['WisdomTree U.S. LargeCap Index'][:i+1]).prod()/(df.loc[df.index[i-1]]['w1']*(1+df['WisdomTree U.S. LargeCap Index'][:i+1]).prod()+\\\n",
    "                                        df.loc[df.index[i-1]]['w2']*(1+df['WisdomTree U.S. MidCap Index'][:i+1]).prod()+\\\n",
    "    df.loc[df.index[i-1]]['w3']*(1+df['WisdomTree U.S. SmallCap Index'][:i+1]).prod())\n",
    "        df['w2'][i] = df.loc[df.index[i-1]]['w2']*(1+df['WisdomTree U.S. MidCap Index'][:i+1]).prod()/(df.loc[df.index[i-1]]['w1']*(1+df['WisdomTree U.S. LargeCap Index'][:i+1]).prod()+\\\n",
    "                                        df.loc[df.index[i-1]]['w2']*(1+df['WisdomTree U.S. MidCap Index'][:i+1]).prod()+\\\n",
    "    df.loc[df.index[i-1]]['w3']*(1+df['WisdomTree U.S. SmallCap Index'][:i+1]).prod())\n",
    "        df['w3'][i] = df.loc[df.index[i-1]]['w3']*(1+df['WisdomTree U.S. SmallCap Index'][:i+1]).prod()/(df.loc[df.index[i-1]]['w1']*(1+df['WisdomTree U.S. LargeCap Index'][:i+1]).prod()+\\\n",
    "                                        df.loc[df.index[i-1]]['w2']*(1+df['WisdomTree U.S. MidCap Index'][:i+1]).prod()+\\\n",
    "    df.loc[df.index[i-1]]['w3']*(1+df['WisdomTree U.S. SmallCap Index'][:i+1]).prod())\n",
    "    else:\n",
    "        df['w1'][i] = df.loc[df.index[i-1]]['w1']\n",
    "        df['w2'][i] = df.loc[df.index[i-1]]['w2']\n",
    "        df['w3'][i] = df.loc[df.index[i-1]]['w3']"
   ]
  },
  {
   "cell_type": "markdown",
   "metadata": {},
   "source": [
    "### Calculate the portfolio return after rebalancing the weights "
   ]
  },
  {
   "cell_type": "code",
   "execution_count": 10,
   "metadata": {},
   "outputs": [],
   "source": [
    "#Calculate the portfolio return after rebalancing the weights \n",
    "df['PortfolioReturn_withRebalance'] = np.empty(len(df))\n",
    "\n",
    "df['PortfolioReturn_withRebalance'].iloc[0] =  df['w1'].iloc[0]*df['WisdomTree U.S. LargeCap Index'].iloc[0]+\\\n",
    "                                        df['w2'].iloc[0]*df['WisdomTree U.S. MidCap Index'].iloc[0]+ df['w3'].iloc[0]*df['WisdomTree U.S. SmallCap Index'].iloc[0]\n",
    "for i in range(1,len(df)):\n",
    "    df['PortfolioReturn_withRebalance'].iloc[i] =  df['w1'].iloc[i]*((1+df['WisdomTree U.S. LargeCap Index'][:i+1]).prod()-1)+\\\n",
    "                                        df['w2'].iloc[i]*((1+df['WisdomTree U.S. MidCap Index'][:i+1]).prod()-1)+\\\n",
    "    df['w3'].iloc[i]*((1+df['WisdomTree U.S. SmallCap Index'][:i+1]).prod()-1)"
   ]
  },
  {
   "cell_type": "code",
   "execution_count": 29,
   "metadata": {},
   "outputs": [
    {
     "data": {
      "text/html": [
       "<div>\n",
       "<style scoped>\n",
       "    .dataframe tbody tr th:only-of-type {\n",
       "        vertical-align: middle;\n",
       "    }\n",
       "\n",
       "    .dataframe tbody tr th {\n",
       "        vertical-align: top;\n",
       "    }\n",
       "\n",
       "    .dataframe thead th {\n",
       "        text-align: right;\n",
       "    }\n",
       "</style>\n",
       "<table border=\"1\" class=\"dataframe\">\n",
       "  <thead>\n",
       "    <tr style=\"text-align: right;\">\n",
       "      <th></th>\n",
       "      <th>WisdomTree U.S. Total Market Index</th>\n",
       "      <th>WisdomTree U.S. LargeCap Index</th>\n",
       "      <th>WisdomTree U.S. MidCap Index</th>\n",
       "      <th>WisdomTree U.S. SmallCap Index</th>\n",
       "      <th>PortfolioReturn_withoutRebalance</th>\n",
       "      <th>w1</th>\n",
       "      <th>w2</th>\n",
       "      <th>w3</th>\n",
       "      <th>PortfolioReturn_withRebalance</th>\n",
       "    </tr>\n",
       "    <tr>\n",
       "      <th>Month End</th>\n",
       "      <th></th>\n",
       "      <th></th>\n",
       "      <th></th>\n",
       "      <th></th>\n",
       "      <th></th>\n",
       "      <th></th>\n",
       "      <th></th>\n",
       "      <th></th>\n",
       "      <th></th>\n",
       "    </tr>\n",
       "  </thead>\n",
       "  <tbody>\n",
       "    <tr>\n",
       "      <th>2018-05-31</th>\n",
       "      <td>0.0213079</td>\n",
       "      <td>0.0186225</td>\n",
       "      <td>0.0349314</td>\n",
       "      <td>0.0564841</td>\n",
       "      <td>3.566671</td>\n",
       "      <td>0.010017</td>\n",
       "      <td>0.705045</td>\n",
       "      <td>0.284938</td>\n",
       "      <td>4.176492</td>\n",
       "    </tr>\n",
       "    <tr>\n",
       "      <th>2018-06-30</th>\n",
       "      <td>0.00221001</td>\n",
       "      <td>0.000790349</td>\n",
       "      <td>0.0106676</td>\n",
       "      <td>0.0217308</td>\n",
       "      <td>3.604731</td>\n",
       "      <td>0.010017</td>\n",
       "      <td>0.705045</td>\n",
       "      <td>0.284938</td>\n",
       "      <td>4.248064</td>\n",
       "    </tr>\n",
       "    <tr>\n",
       "      <th>2018-07-31</th>\n",
       "      <td>0.0371434</td>\n",
       "      <td>0.03932</td>\n",
       "      <td>0.0226394</td>\n",
       "      <td>0.0215919</td>\n",
       "      <td>3.741032</td>\n",
       "      <td>0.010017</td>\n",
       "      <td>0.705045</td>\n",
       "      <td>0.284938</td>\n",
       "      <td>4.365917</td>\n",
       "    </tr>\n",
       "    <tr>\n",
       "      <th>2018-08-31</th>\n",
       "      <td>0.0303125</td>\n",
       "      <td>0.030174</td>\n",
       "      <td>0.0315392</td>\n",
       "      <td>0.0323891</td>\n",
       "      <td>3.888468</td>\n",
       "      <td>0.007643</td>\n",
       "      <td>0.697814</td>\n",
       "      <td>0.294543</td>\n",
       "      <td>4.541759</td>\n",
       "    </tr>\n",
       "    <tr>\n",
       "      <th>2018-09-30</th>\n",
       "      <td>-0.00145778</td>\n",
       "      <td>0.00126167</td>\n",
       "      <td>-0.0198999</td>\n",
       "      <td>-0.0201829</td>\n",
       "      <td>3.835641</td>\n",
       "      <td>0.007643</td>\n",
       "      <td>0.697814</td>\n",
       "      <td>0.294543</td>\n",
       "      <td>4.431684</td>\n",
       "    </tr>\n",
       "    <tr>\n",
       "      <th>2018-10-31</th>\n",
       "      <td>-0.0583016</td>\n",
       "      <td>-0.0542998</td>\n",
       "      <td>-0.0885638</td>\n",
       "      <td>-0.0900953</td>\n",
       "      <td>3.478551</td>\n",
       "      <td>0.007643</td>\n",
       "      <td>0.697814</td>\n",
       "      <td>0.294543</td>\n",
       "      <td>3.949212</td>\n",
       "    </tr>\n",
       "    <tr>\n",
       "      <th>2018-11-30</th>\n",
       "      <td>0.0155432</td>\n",
       "      <td>0.0145747</td>\n",
       "      <td>0.0302674</td>\n",
       "      <td>0.00149011</td>\n",
       "      <td>3.560696</td>\n",
       "      <td>0.007643</td>\n",
       "      <td>0.697814</td>\n",
       "      <td>0.294543</td>\n",
       "      <td>4.055283</td>\n",
       "    </tr>\n",
       "    <tr>\n",
       "      <th>2018-12-31</th>\n",
       "      <td>-0.0958763</td>\n",
       "      <td>-0.0938094</td>\n",
       "      <td>-0.111471</td>\n",
       "      <td>-0.111688</td>\n",
       "      <td>3.087982</td>\n",
       "      <td>0.007643</td>\n",
       "      <td>0.697814</td>\n",
       "      <td>0.294543</td>\n",
       "      <td>3.491988</td>\n",
       "    </tr>\n",
       "    <tr>\n",
       "      <th>2019-01-31</th>\n",
       "      <td>0.090935</td>\n",
       "      <td>0.0860181</td>\n",
       "      <td>0.126332</td>\n",
       "      <td>0.12311</td>\n",
       "      <td>3.528104</td>\n",
       "      <td>0.007643</td>\n",
       "      <td>0.697814</td>\n",
       "      <td>0.294543</td>\n",
       "      <td>4.054030</td>\n",
       "    </tr>\n",
       "    <tr>\n",
       "      <th>2019-02-28</th>\n",
       "      <td>0.0332456</td>\n",
       "      <td>0.0314726</td>\n",
       "      <td>0.042848</td>\n",
       "      <td>0.0487371</td>\n",
       "      <td>3.703912</td>\n",
       "      <td>0.005964</td>\n",
       "      <td>0.695729</td>\n",
       "      <td>0.298306</td>\n",
       "      <td>4.281315</td>\n",
       "    </tr>\n",
       "  </tbody>\n",
       "</table>\n",
       "</div>"
      ],
      "text/plain": [
       "           WisdomTree U.S. Total Market Index WisdomTree U.S. LargeCap Index  \\\n",
       "Month End                                                                      \n",
       "2018-05-31                          0.0213079                      0.0186225   \n",
       "2018-06-30                         0.00221001                    0.000790349   \n",
       "2018-07-31                          0.0371434                        0.03932   \n",
       "2018-08-31                          0.0303125                       0.030174   \n",
       "2018-09-30                        -0.00145778                     0.00126167   \n",
       "2018-10-31                         -0.0583016                     -0.0542998   \n",
       "2018-11-30                          0.0155432                      0.0145747   \n",
       "2018-12-31                         -0.0958763                     -0.0938094   \n",
       "2019-01-31                           0.090935                      0.0860181   \n",
       "2019-02-28                          0.0332456                      0.0314726   \n",
       "\n",
       "           WisdomTree U.S. MidCap Index WisdomTree U.S. SmallCap Index  \\\n",
       "Month End                                                                \n",
       "2018-05-31                    0.0349314                      0.0564841   \n",
       "2018-06-30                    0.0106676                      0.0217308   \n",
       "2018-07-31                    0.0226394                      0.0215919   \n",
       "2018-08-31                    0.0315392                      0.0323891   \n",
       "2018-09-30                   -0.0198999                     -0.0201829   \n",
       "2018-10-31                   -0.0885638                     -0.0900953   \n",
       "2018-11-30                    0.0302674                     0.00149011   \n",
       "2018-12-31                    -0.111471                      -0.111688   \n",
       "2019-01-31                     0.126332                        0.12311   \n",
       "2019-02-28                     0.042848                      0.0487371   \n",
       "\n",
       "            PortfolioReturn_withoutRebalance        w1        w2        w3  \\\n",
       "Month End                                                                    \n",
       "2018-05-31                          3.566671  0.010017  0.705045  0.284938   \n",
       "2018-06-30                          3.604731  0.010017  0.705045  0.284938   \n",
       "2018-07-31                          3.741032  0.010017  0.705045  0.284938   \n",
       "2018-08-31                          3.888468  0.007643  0.697814  0.294543   \n",
       "2018-09-30                          3.835641  0.007643  0.697814  0.294543   \n",
       "2018-10-31                          3.478551  0.007643  0.697814  0.294543   \n",
       "2018-11-30                          3.560696  0.007643  0.697814  0.294543   \n",
       "2018-12-31                          3.087982  0.007643  0.697814  0.294543   \n",
       "2019-01-31                          3.528104  0.007643  0.697814  0.294543   \n",
       "2019-02-28                          3.703912  0.005964  0.695729  0.298306   \n",
       "\n",
       "            PortfolioReturn_withRebalance  \n",
       "Month End                                  \n",
       "2018-05-31                       4.176492  \n",
       "2018-06-30                       4.248064  \n",
       "2018-07-31                       4.365917  \n",
       "2018-08-31                       4.541759  \n",
       "2018-09-30                       4.431684  \n",
       "2018-10-31                       3.949212  \n",
       "2018-11-30                       4.055283  \n",
       "2018-12-31                       3.491988  \n",
       "2019-01-31                       4.054030  \n",
       "2019-02-28                       4.281315  "
      ]
     },
     "execution_count": 29,
     "metadata": {},
     "output_type": "execute_result"
    }
   ],
   "source": [
    "df.tail(10)"
   ]
  },
  {
   "cell_type": "markdown",
   "metadata": {},
   "source": [
    "### Calculate the 1 year annualized return & drawdown"
   ]
  },
  {
   "cell_type": "code",
   "execution_count": 12,
   "metadata": {},
   "outputs": [],
   "source": [
    "def get_one_year_annualized_return():\n",
    "    one_year_annualized = np.array([])\n",
    "    draw_down = np.array([])\n",
    "    for i in range(2009,2020):\n",
    "        ret = (df[df.index.year == i]['WisdomTree U.S. LargeCap Index']*df[df.index.year == i]['w1']+\\\n",
    "             df[df.index.year == i]['WisdomTree U.S. SmallCap Index']*df[df.index.year == i]['w3']+df[df.index.year == i]['WisdomTree U.S. MidCap Index']*df[df.index.year == i]['w2'])\n",
    "        one_year_annualized = np.append(one_year_annualized,(1+ret.values).prod()**(1/len(ret.values))-1)\n",
    "        draw_down = np.append(draw_down,ret.max()-ret.min())\n",
    "    return one_year_annualized,draw_down"
   ]
  },
  {
   "cell_type": "code",
   "execution_count": 13,
   "metadata": {},
   "outputs": [],
   "source": [
    "one_year,one_year_drawdown = get_one_year_annualized_return()"
   ]
  },
  {
   "cell_type": "code",
   "execution_count": 14,
   "metadata": {},
   "outputs": [
    {
     "name": "stdout",
     "output_type": "stream",
     "text": [
      "The std for one year annualized return: 0.024671761244102027\n",
      "In Year 2009 drawdown is 0.2811614028961798\n",
      "In Year 2010 drawdown is 0.17154204460517913\n",
      "In Year 2011 drawdown is 0.22573943143748842\n",
      "In Year 2012 drawdown is 0.14793884511055083\n",
      "In Year 2013 drawdown is 0.10081767334290719\n",
      "In Year 2014 drawdown is 0.10025286959567102\n",
      "In Year 2015 drawdown is 0.1175221026599464\n",
      "In Year 2016 drawdown is 0.1678736136323154\n",
      "In Year 2017 drawdown is 0.07407761486363423\n",
      "In Year 2018 drawdown is 0.1523088634647126\n",
      "In Year 2019 drawdown is 0.08053816377171893\n"
     ]
    }
   ],
   "source": [
    "#Calculate the 1 year standard deviation\n",
    "print('The std for one year annualized return:',one_year.std())\n",
    "#Print the drawdown:\n",
    "for i in range(11):\n",
    "    print('In Year {} drawdown is {}'.format(i+2009,one_year_drawdown[i]))"
   ]
  },
  {
   "cell_type": "markdown",
   "metadata": {},
   "source": [
    "### Calculate the 3 year annualized return & drawdown"
   ]
  },
  {
   "cell_type": "code",
   "execution_count": 15,
   "metadata": {},
   "outputs": [],
   "source": [
    "#Calculate 3 year annulaized return\n",
    "def get_three_year_annualized_return():\n",
    "    three_year_annualized = np.array([])\n",
    "    draw_down = np.array([])\n",
    "    ret1 = (df['2009-02-28':'2011-12-31']['WisdomTree U.S. LargeCap Index']*df['2009-02-28':'2011-12-31']['w1']+\\\n",
    "             df['2009-02-28':'2011-12-31']['WisdomTree U.S. SmallCap Index']*df['2009-02-28':'2011-12-31']['w3']+df['2009-02-28':'2011-12-31']['WisdomTree U.S. MidCap Index']*df['2009-02-28':'2011-12-31']['w2'])\n",
    "    ret2 = (df['2012-01-31':'2014-12-31']['WisdomTree U.S. LargeCap Index']*df['2012-01-31':'2014-12-31']['w1']+\\\n",
    "             df['2012-01-31':'2014-12-31']['WisdomTree U.S. SmallCap Index']*df['2012-01-31':'2014-12-31']['w3']+df['2012-01-31':'2014-12-31']['WisdomTree U.S. MidCap Index']*df['2012-01-31':'2014-12-31']['w2'])\n",
    "    ret3 = (df['2015-01-31':'2017-12-31']['WisdomTree U.S. LargeCap Index']*df['2015-01-31':'2017-12-31']['w1']+\\\n",
    "             df['2015-01-31':'2017-12-31']['WisdomTree U.S. SmallCap Index']*df['2015-01-31':'2017-12-31']['w3']+df['2015-01-31':'2017-12-31']['WisdomTree U.S. MidCap Index']*df['2015-01-31':'2017-12-31']['w2'])\n",
    "    for i in ret1,ret2,ret3:\n",
    "        three_year_annualized = np.append(three_year_annualized,(1+i.values).prod()**(1/len(i.values))-1)\n",
    "        draw_down = np.append(draw_down,i.max()-i.min())\n",
    "    return three_year_annualized,draw_down"
   ]
  },
  {
   "cell_type": "code",
   "execution_count": 16,
   "metadata": {},
   "outputs": [],
   "source": [
    "three_year,three_year_drawdown = get_three_year_annualized_return()"
   ]
  },
  {
   "cell_type": "code",
   "execution_count": 17,
   "metadata": {},
   "outputs": [
    {
     "name": "stdout",
     "output_type": "stream",
     "text": [
      "The std for 3-year annualized return: 0.00562221754037113\n",
      "2009-02-28 to 2011-12-31 Drawdown 0.2583256214681322\n",
      "2012-01-31 to 2014-12-31 Drawdown 0.14793884511055083\n",
      "2015-01-31 to 2017-12-31 Drawdown 0.1678736136323154\n"
     ]
    }
   ],
   "source": [
    "#Calculate the std for the 3-year annualized return\n",
    "print('The std for 3-year annualized return:',three_year.std())\n",
    "#Print the draw_down\n",
    "print('2009-02-28 to 2011-12-31 Drawdown',three_year_drawdown[0])\n",
    "print('2012-01-31 to 2014-12-31 Drawdown',three_year_drawdown[1])\n",
    "print('2015-01-31 to 2017-12-31 Drawdown',three_year_drawdown[2])"
   ]
  },
  {
   "cell_type": "markdown",
   "metadata": {},
   "source": [
    "### Calculate the 5 year annualized return & drawdown"
   ]
  },
  {
   "cell_type": "code",
   "execution_count": 18,
   "metadata": {},
   "outputs": [],
   "source": [
    "#Calculate 5 year annulaized return\n",
    "def get_five_year_annualized_return():\n",
    "    five_year_annualized = np.array([])\n",
    "    draw_down = np.array([])\n",
    "    ret1 = (df['2009-02-28':'2013-12-31']['WisdomTree U.S. LargeCap Index']*df['2009-02-28':'2013-12-31']['w1']+\\\n",
    "             df['2009-02-28':'2013-12-31']['WisdomTree U.S. SmallCap Index']*df['2009-02-28':'2013-12-31']['w3']+df['2009-02-28':'2013-12-31']['WisdomTree U.S. MidCap Index']*df['2009-02-28':'2013-12-31']['w2'])\n",
    "    ret2 = (df['2014-01-31':'2018-12-31']['WisdomTree U.S. LargeCap Index']*df['2014-01-31':'2018-12-31']['w1']+\\\n",
    "             df['2014-01-31':'2018-12-31']['WisdomTree U.S. SmallCap Index']*df['2014-01-31':'2018-12-31']['w3']+df['2014-01-31':'2018-12-31']['WisdomTree U.S. MidCap Index']*df['2014-01-31':'2018-12-31']['w2'])\n",
    "    for i in ret1,ret2:\n",
    "        five_year_annualized = np.append(five_year_annualized,(1+i.values).prod()**(1/len(i.values))-1)\n",
    "        draw_down = np.append(draw_down,i.max()-i.min())\n",
    "    return five_year_annualized,draw_down"
   ]
  },
  {
   "cell_type": "code",
   "execution_count": 19,
   "metadata": {},
   "outputs": [],
   "source": [
    "five_year,five_year_drawdown = get_five_year_annualized_return()"
   ]
  },
  {
   "cell_type": "code",
   "execution_count": 20,
   "metadata": {},
   "outputs": [
    {
     "name": "stdout",
     "output_type": "stream",
     "text": [
      "The std for 5-year annualized return: 0.008789460304085228\n",
      "2009-02-28 to 2013-12-31 Drawdown 0.2583256214681322\n",
      "2014-01-31 to 2018-12-31 Drawdown 0.2137156363067632\n"
     ]
    }
   ],
   "source": [
    "#Calculate the std for the 5-year annualized return\n",
    "print('The std for 5-year annualized return:',five_year.std())\n",
    "#Print the draw_down\n",
    "print('2009-02-28 to 2013-12-31 Drawdown',five_year_drawdown[0])\n",
    "print('2014-01-31 to 2018-12-31 Drawdown',five_year_drawdown[1])"
   ]
  },
  {
   "cell_type": "markdown",
   "metadata": {},
   "source": [
    "### Calculate the 10 year annualized return & drawdown"
   ]
  },
  {
   "cell_type": "code",
   "execution_count": 21,
   "metadata": {},
   "outputs": [],
   "source": [
    "#Calculate 10 year annulaized return\n",
    "def get_ten_year_annualized_return():\n",
    "    ten_year_annualized = np.array([])\n",
    "    ret = (df['2009-02-28':'2018-12-31']['WisdomTree U.S. LargeCap Index']*df['2009-02-28':'2018-12-31']['w1']+\\\n",
    "             df['2009-02-28':'2018-12-31']['WisdomTree U.S. SmallCap Index']*df['2009-02-28':'2018-12-31']['w3']+df['2009-02-28':'2018-12-31']['WisdomTree U.S. MidCap Index']*df['2009-02-28':'2018-12-31']['w2'])\n",
    "    draw_down = ret.max()-ret.min()\n",
    "    ten_year_annualized = np.append(ten_year_annualized,(1+ret.values).prod()**(1/len(ret.values))-1)\n",
    "    return ten_year_annualized,draw_down"
   ]
  },
  {
   "cell_type": "code",
   "execution_count": 22,
   "metadata": {},
   "outputs": [],
   "source": [
    "ten_year,ten_year_drawdown = get_ten_year_annualized_return()"
   ]
  },
  {
   "cell_type": "code",
   "execution_count": 23,
   "metadata": {},
   "outputs": [
    {
     "name": "stdout",
     "output_type": "stream",
     "text": [
      "2009-02-28 to 2018-12-31 Drawdown 0.2779274567040415\n"
     ]
    }
   ],
   "source": [
    "#Print the draw_down\n",
    "print('2009-02-28 to 2018-12-31 Drawdown',ten_year_drawdown)"
   ]
  },
  {
   "cell_type": "markdown",
   "metadata": {},
   "source": [
    "### Plot the 100USD chart for the WTEPSTR, WTMEITR, WTSEITR"
   ]
  },
  {
   "cell_type": "code",
   "execution_count": null,
   "metadata": {},
   "outputs": [],
   "source": [
    "#Plot the $100 chart for the WTEPSTR\n",
    "ret_wtepstr = [100*(1+df['WisdomTree U.S. LargeCap Index'][:i+1]).prod() for i in range(len(df))]\n",
    "ret_meitr = [100*(1+df['WisdomTree U.S. MidCap Index'][:i+1]).prod() for i in range(len(df))]\n",
    "ret_seitr = [100*(1+df['WisdomTree U.S. SmallCap Index'][:i+1]).prod() for i in range(len(df))]"
   ]
  },
  {
   "cell_type": "code",
   "execution_count": 25,
   "metadata": {},
   "outputs": [
    {
     "data": {
      "image/png": "[encoded data removed]",
      "text/plain": [
       "<Figure size 432x288 with 1 Axes>"
      ]
     },
     "metadata": {},
     "output_type": "display_data"
    }
   ],
   "source": [
    "x = df.index\n",
    "plt.plot(x,ret_wtepstr,label='WisdomTree U.S. LargeCap Index')\n",
    "plt.plot(x,ret_meitr,label='WisdomTree U.S. MidCap Index')\n",
    "plt.plot(x,ret_seitr,label='WisdomTree U.S. SmallCap Index')\n",
    "plt.legend()\n",
    "plt.show()"
   ]
  },
  {
   "cell_type": "code",
   "execution_count": 26,
   "metadata": {},
   "outputs": [
    {
     "data": {
      "image/png": "[encoded data removed]",
      "text/plain": [
       "<Figure size 432x288 with 1 Axes>"
      ]
     },
     "metadata": {},
     "output_type": "display_data"
    }
   ],
   "source": [
    "#Plot a $100 for the porofolio\n",
    "plt.plot(100*(1+df['PortfolioReturn_withRebalance']),label='withRebalance')\n",
    "plt.plot(100*(1+df['PortfolioReturn_withoutRebalance']),label='withoutRebalance')\n",
    "plt.legend()\n",
    "plt.show()"
   ]
  },
  {
   "cell_type": "code",
   "execution_count": null,
   "metadata": {},
   "outputs": [],
   "source": []
  }
 ],
 "metadata": {
  "kernelspec": {
   "display_name": "Python 3",
   "language": "python",
   "name": "python3"
  },
  "language_info": {
   "codemirror_mode": {
    "name": "ipython",
    "version": 3
   },
   "file_extension": ".py",
   "mimetype": "text/x-python",
   "name": "python",
   "nbconvert_exporter": "python",
   "pygments_lexer": "ipython3",
   "version": "3.6.5"
  }
 },
 "nbformat": 4,
 "nbformat_minor": 2
}
